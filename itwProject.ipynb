{
  "nbformat": 4,
  "nbformat_minor": 0,
  "metadata": {
    "colab": {
      "name": "itwProject.ipynb",
      "provenance": [],
      "collapsed_sections": [],
      "include_colab_link": true
    },
    "kernelspec": {
      "name": "python3",
      "display_name": "Python 3"
    },
    "language_info": {
      "name": "python"
    }
  },
  "cells": [
    {
      "cell_type": "markdown",
      "metadata": {
        "id": "view-in-github",
        "colab_type": "text"
      },
      "source": [
        "<a href=\"https://colab.research.google.com/github/ayush12315/ITW-PBL/blob/main/itwProject.ipynb\" target=\"_parent\"><img src=\"https://colab.research.google.com/assets/colab-badge.svg\" alt=\"Open In Colab\"/></a>"
      ]
    },
    {
      "cell_type": "code",
      "execution_count": null,
      "metadata": {
        "id": "5DLqXQ3GEs7a",
        "colab": {
          "resources": {
            "http://localhost:8080/nbextensions/google.colab/files.js": {
              "data": "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",
              "ok": true,
              "headers": [
                [
                  "content-type",
                  "application/javascript"
                ]
              ],
              "status": 200,
              "status_text": ""
            }
          },
          "base_uri": "https://localhost:8080/",
          "height": 74
        },
        "outputId": "063a9fae-5365-41af-9211-f7ab128c7bcb"
      },
      "outputs": [
        {
          "output_type": "display_data",
          "data": {
            "text/plain": [
              "<IPython.core.display.HTML object>"
            ],
            "text/html": [
              "\n",
              "     <input type=\"file\" id=\"files-8a35d9c7-c75b-4077-8900-10df20dc10de\" name=\"files[]\" multiple disabled\n",
              "        style=\"border:none\" />\n",
              "     <output id=\"result-8a35d9c7-c75b-4077-8900-10df20dc10de\">\n",
              "      Upload widget is only available when the cell has been executed in the\n",
              "      current browser session. Please rerun this cell to enable.\n",
              "      </output>\n",
              "      <script src=\"/nbextensions/google.colab/files.js\"></script> "
            ]
          },
          "metadata": {}
        },
        {
          "output_type": "stream",
          "name": "stdout",
          "text": [
            "Saving Udemy Courses.csv to Udemy Courses.csv\n"
          ]
        }
      ],
      "source": [
        "import pandas as pd\n",
        "from google.colab import files\n",
        "\n",
        "uploaded=files.upload()       #To upload a file\n",
        "\n",
        "import pandas as pd\n"
      ]
    },
    {
      "cell_type": "code",
      "source": [
        "import matplotlib.pyplot as plt\n",
        "data = pd.read_csv(\"Udemy Courses.csv\")"
      ],
      "metadata": {
        "id": "6zdFx-HuEtxA"
      },
      "execution_count": null,
      "outputs": []
    },
    {
      "cell_type": "code",
      "source": [
        "print(data.subject.unique())    # different subjects for which Udemy is offering courses"
      ],
      "metadata": {
        "id": "E208ORbzEt6V",
        "colab": {
          "base_uri": "https://localhost:8080/"
        },
        "outputId": "be8b4047-c038-4f51-f45c-9f86df65f474"
      },
      "execution_count": null,
      "outputs": [
        {
          "output_type": "stream",
          "name": "stdout",
          "text": [
            "['Musical Instruments' 'Business Finance' 'Graphic Design'\n",
            " 'Web Development']\n"
          ]
        }
      ]
    },
    {
      "cell_type": "code",
      "source": [
        "print(data.subject.value_counts())  #subject that has the maximum number of courses"
      ],
      "metadata": {
        "id": "H83cgtOvEt9N",
        "colab": {
          "base_uri": "https://localhost:8080/"
        },
        "outputId": "48ab33a2-749e-4275-cc71-0b93a27149e0"
      },
      "execution_count": null,
      "outputs": [
        {
          "output_type": "stream",
          "name": "stdout",
          "text": [
            "Web Development        1200\n",
            "Business Finance       1199\n",
            "Musical Instruments     680\n",
            "Graphic Design          603\n",
            "Name: subject, dtype: int64\n"
          ]
        }
      ]
    },
    {
      "cell_type": "code",
      "source": [
        "print(data.is_paid==False)  # all the courses which are Free of Cost"
      ],
      "metadata": {
        "id": "NtnvrsmbEuBe",
        "colab": {
          "base_uri": "https://localhost:8080/"
        },
        "outputId": "2d0e8388-ed7f-4717-bf0a-ca5a3ae35bdf"
      },
      "execution_count": null,
      "outputs": [
        {
          "output_type": "stream",
          "name": "stdout",
          "text": [
            "0       False\n",
            "1       False\n",
            "2       False\n",
            "3       False\n",
            "4       False\n",
            "        ...  \n",
            "3677    False\n",
            "3678    False\n",
            "3679    False\n",
            "3680     True\n",
            "3681    False\n",
            "Name: is_paid, Length: 3682, dtype: bool\n"
          ]
        }
      ]
    },
    {
      "cell_type": "code",
      "source": [
        "print([data.is_paid==True])   #all the courses which are Paid"
      ],
      "metadata": {
        "id": "BG1BezhLEuHY",
        "colab": {
          "base_uri": "https://localhost:8080/"
        },
        "outputId": "903666f1-657c-4087-eaae-bb0d68e7ccbe"
      },
      "execution_count": null,
      "outputs": [
        {
          "output_type": "stream",
          "name": "stdout",
          "text": [
            "[0        True\n",
            "1        True\n",
            "2        True\n",
            "3        True\n",
            "4        True\n",
            "        ...  \n",
            "3677     True\n",
            "3678     True\n",
            "3679     True\n",
            "3680    False\n",
            "3681     True\n",
            "Name: is_paid, Length: 3682, dtype: bool]\n"
          ]
        }
      ]
    },
    {
      "cell_type": "code",
      "source": [
        "print(data.sort_values('num_subscribers',ascending=False))   #Top Selling Courses"
      ],
      "metadata": {
        "id": "dmyELTx_EuKR",
        "colab": {
          "base_uri": "https://localhost:8080/"
        },
        "outputId": "ec365173-cae6-4df2-a530-3038ce7a88fc"
      },
      "execution_count": null,
      "outputs": [
        {
          "output_type": "stream",
          "name": "stdout",
          "text": [
            "      course_id                                       course_title  is_paid  \\\n",
            "2230      41295               Learn HTML5 Programming From Scratch    False   \n",
            "776       59014                     Coding for Entrepreneurs Basic    False   \n",
            "3385     625204                         The Web Developer Bootcamp     True   \n",
            "640      173548  Build Your First Website in 1 Week with HTML5 ...    False   \n",
            "3316     764164              The Complete Web Developer Course 2.0     True   \n",
            "...         ...                                                ...      ...   \n",
            "2290    1223240  Learn Pirates of the Caribbean by Ear on the P...     True   \n",
            "1267    1258666                Financial Statement Auditing Cycles     True   \n",
            "2070    1215926                Kickstarter success in 5 easy steps     True   \n",
            "1931    1247992  Introduction to Project Management for Finance...     True   \n",
            "3165    1087466  Stop Creditors from Harassing you and Avoid Ba...     True   \n",
            "\n",
            "     price  num_subscribers  num_reviews  num_lectures               level  \\\n",
            "2230  Free           268923         8629            45          All Levels   \n",
            "776   Free           161029          279            27      Beginner Level   \n",
            "3385   200           121584        27445           342          All Levels   \n",
            "640   Free           120291         5924            30      Beginner Level   \n",
            "3316   200           114512        22412           304          All Levels   \n",
            "...    ...              ...          ...           ...                 ...   \n",
            "2290    20                0            0             6          All Levels   \n",
            "1267    50                0            0             9  Intermediate Level   \n",
            "2070    20                0            0            12          All Levels   \n",
            "1931    50                0            0             9      Beginner Level   \n",
            "3165    20                0            0             7      Beginner Level   \n",
            "\n",
            "     content_duration   published_timestamp              subject  \n",
            "2230       10.5 hours  2013-02-14T07:03:41Z      Web Development  \n",
            "776         3.5 hours  2013-06-09T15:51:55Z      Web Development  \n",
            "3385         43 hours  2015-11-02T21:13:27Z      Web Development  \n",
            "640           3 hours  2014-04-08T16:21:30Z      Web Development  \n",
            "3316       30.5 hours  2016-03-08T22:28:36Z      Web Development  \n",
            "...               ...                   ...                  ...  \n",
            "2290          32 mins  2017-05-22T17:14:43Z  Musical Instruments  \n",
            "1267          2 hours  2017-06-29T23:20:10Z     Business Finance  \n",
            "2070          31 mins  2017-05-16T14:55:28Z     Business Finance  \n",
            "1931          2 hours  2017-07-03T21:40:32Z     Business Finance  \n",
            "3165          37 mins  2017-02-02T16:22:37Z     Business Finance  \n",
            "\n",
            "[3682 rows x 11 columns]\n"
          ]
        }
      ]
    },
    {
      "cell_type": "code",
      "source": [
        "print(data.sort_values('num_subscribers'))   #Least Selling Courses"
      ],
      "metadata": {
        "id": "-o3n227aEuRb",
        "colab": {
          "base_uri": "https://localhost:8080/"
        },
        "outputId": "82705e9c-603d-450e-9df7-d2baba28d95c"
      },
      "execution_count": null,
      "outputs": [
        {
          "output_type": "stream",
          "name": "stdout",
          "text": [
            "      course_id                                       course_title  is_paid  \\\n",
            "649     1233314                      Building a Balanced Scorecard     True   \n",
            "3259    1232282          The Cash Flow Statement - An Introduction     True   \n",
            "3261    1275872                    The Complete Adobe Spark Course     True   \n",
            "910      726314       Create Beautiful Image Maps for Your Website     True   \n",
            "3328     715476        The Cuckoo Strategy to get European Funding     True   \n",
            "...         ...                                                ...      ...   \n",
            "3316     764164              The Complete Web Developer Course 2.0     True   \n",
            "640      173548  Build Your First Website in 1 Week with HTML5 ...    False   \n",
            "3385     625204                         The Web Developer Bootcamp     True   \n",
            "776       59014                     Coding for Entrepreneurs Basic    False   \n",
            "2230      41295               Learn HTML5 Programming From Scratch    False   \n",
            "\n",
            "     price  num_subscribers  num_reviews  num_lectures               level  \\\n",
            "649     50                0            0            11  Intermediate Level   \n",
            "3259    50                0            0            10      Beginner Level   \n",
            "3261   150                0            0            29          All Levels   \n",
            "910     20                0            0             8  Intermediate Level   \n",
            "3328   160                0            0             6          All Levels   \n",
            "...    ...              ...          ...           ...                 ...   \n",
            "3316   200           114512        22412           304          All Levels   \n",
            "640   Free           120291         5924            30      Beginner Level   \n",
            "3385   200           121584        27445           342          All Levels   \n",
            "776   Free           161029          279            27      Beginner Level   \n",
            "2230  Free           268923         8629            45          All Levels   \n",
            "\n",
            "     content_duration   published_timestamp           subject  \n",
            "649           2 hours  2017-07-03T21:38:22Z  Business Finance  \n",
            "3259        1.5 hours  2017-06-28T16:05:51Z  Business Finance  \n",
            "3261          2 hours  2017-07-03T17:39:57Z    Graphic Design  \n",
            "910           37 mins  2016-01-18T17:56:36Z    Graphic Design  \n",
            "3328           1 hour  2016-01-06T02:38:23Z  Business Finance  \n",
            "...               ...                   ...               ...  \n",
            "3316       30.5 hours  2016-03-08T22:28:36Z   Web Development  \n",
            "640           3 hours  2014-04-08T16:21:30Z   Web Development  \n",
            "3385         43 hours  2015-11-02T21:13:27Z   Web Development  \n",
            "776         3.5 hours  2013-06-09T15:51:55Z   Web Development  \n",
            "2230       10.5 hours  2013-02-14T07:03:41Z   Web Development  \n",
            "\n",
            "[3682 rows x 11 columns]\n"
          ]
        }
      ]
    },
    {
      "cell_type": "code",
      "source": [
        "print([(data.subject==\"Graphic Design\")&(data.price<'100')])   #all courses of Graphic Design where the price is below 100\n"
      ],
      "metadata": {
        "id": "w68gz0QeEuUg",
        "colab": {
          "base_uri": "https://localhost:8080/"
        },
        "outputId": "c117786f-fe75-449d-fc53-12d4773368da"
      },
      "execution_count": null,
      "outputs": [
        {
          "output_type": "stream",
          "name": "stdout",
          "text": [
            "[0       False\n",
            "1       False\n",
            "2       False\n",
            "3       False\n",
            "4       False\n",
            "        ...  \n",
            "3677    False\n",
            "3678    False\n",
            "3679    False\n",
            "3680    False\n",
            "3681    False\n",
            "Length: 3682, dtype: bool]\n"
          ]
        }
      ]
    },
    {
      "cell_type": "code",
      "source": [
        "# all the courses that are related to 'Python'\n",
        "print(data[data.course_title.str.contains('Python')])\n",
        "print(\"\\n\\nCourses Related to Python:\")\n",
        "print(len(data[data.course_title.str.contains('Python')]))"
      ],
      "metadata": {
        "colab": {
          "base_uri": "https://localhost:8080/"
        },
        "id": "8P22QUazfP6A",
        "outputId": "9c72c647-e38f-4166-a91f-739fd69f4ae2"
      },
      "execution_count": null,
      "outputs": [
        {
          "output_type": "stream",
          "name": "stdout",
          "text": [
            "      course_id                                       course_title  is_paid  \\\n",
            "216      599504  Advanced Scalable Python Web Development Using...     True   \n",
            "777       47963  Coding for Entrepreneurs: Learn Python, Django...     True   \n",
            "814      631128  Complete Python Web Course: Build 8 Python Web...     True   \n",
            "842      186096  Core: A Web App Reference Guide for Django, Py...     True   \n",
            "1400     394832  Fun and creative web engineering with Python a...    False   \n",
            "1932    1038538            Introduction to QGIS Python Programming     True   \n",
            "1969     902888          Investment Portfolio Analysis with Python     True   \n",
            "2294     391546        Learn Python and Django: Payment Processing     True   \n",
            "2295    1063722            Learn Python Django - A Hands-On Course     True   \n",
            "2341     546848  Learn to code in Python and learn Adobe Photos...     True   \n",
            "2906     368340    Professional Python Web Development Using Flask     True   \n",
            "2908    1035940  Professional RESTful API Design using Python F...     True   \n",
            "2929     270808                      Projects in Django and Python     True   \n",
            "2952    1170894  Python Algo Stock Trading: Automate Your Trading!     True   \n",
            "2953    1070886         Python Algo Trading: FX Trading with Oanda     True   \n",
            "2954    1196544   Python Algo Trading: Sentiment Trading with News     True   \n",
            "2955     822444  Python and Django Full Stack Web Developer Boo...     True   \n",
            "2956     477702  Python for Beginners: Python Programming Langu...     True   \n",
            "2957    1035472  Python for Finance: Investment Fundamentals & ...     True   \n",
            "2958     529828                     Python for Trading & Investing     True   \n",
            "2959      70640  Python Programming: Create an Digital Marketpl...     True   \n",
            "2960     523312                             Python Web Programming     True   \n",
            "2962    1088656          Quantitative Trading Analysis with Python     True   \n",
            "3013     970600                    REST APIs with Flask and Python     True   \n",
            "3154     815482               Stock Technical Analysis with Python     True   \n",
            "3272     938560  The Complete Ethical Hacking Course 2.0: Pytho...     True   \n",
            "3460      76052  Try Django 1.9 | Build a Blog and Learn Python...     True   \n",
            "3573      16646                        Web Programming with Python     True   \n",
            "3574     574082        Web Scraping with Python, Ruby & import. io     True   \n",
            "\n",
            "     price  num_subscribers  num_reviews  num_lectures               level  \\\n",
            "216    120             1299           56            71  Intermediate Level   \n",
            "777    195            23412          799           251          All Levels   \n",
            "814    110             7489          941           173          All Levels   \n",
            "842    195             2497           98           154          All Levels   \n",
            "1400  Free            10917          319            25          All Levels   \n",
            "1932    85              197           26            28      Beginner Level   \n",
            "1969    50              209           13            37          All Levels   \n",
            "2294    70            17714          198            23          All Levels   \n",
            "2295    50             1339           21            18      Beginner Level   \n",
            "2341    50             1132            1            29          All Levels   \n",
            "2906   120             3420          489           102      Beginner Level   \n",
            "2908   120              578           25            36  Intermediate Level   \n",
            "2929    60             1764           53            28          All Levels   \n",
            "2952    95             1165           21            41      Beginner Level   \n",
            "2953   200              453           42            33  Intermediate Level   \n",
            "2954   200              294           19            42          All Levels   \n",
            "2955   200            11832         1883           191          All Levels   \n",
            "2956   150             6153          125            84      Beginner Level   \n",
            "2957   195             3811          278           103          All Levels   \n",
            "2958    95              638           25            36          All Levels   \n",
            "2959   195             4198          145           161          All Levels   \n",
            "2960   100             1020           46            60      Beginner Level   \n",
            "2962    50              256           17            49          All Levels   \n",
            "3013   110             5151          737           115  Intermediate Level   \n",
            "3154    50              409           35            46          All Levels   \n",
            "3272   195             7827          268            66          All Levels   \n",
            "3460    50             7407          172           147          All Levels   \n",
            "3573    50            35267          217            53          All Levels   \n",
            "3574    75              973           50            46          All Levels   \n",
            "\n",
            "     content_duration   published_timestamp           subject  \n",
            "216          14 hours  2016-08-11T22:09:24Z   Web Development  \n",
            "777          45 hours  2013-04-08T00:46:14Z   Web Development  \n",
            "814          16 hours  2015-11-08T20:57:35Z   Web Development  \n",
            "842          26 hours  2014-05-29T00:58:43Z   Web Development  \n",
            "1400          2 hours  2015-06-09T19:51:50Z   Web Development  \n",
            "1932        3.5 hours  2016-12-22T00:11:22Z   Web Development  \n",
            "1969          7 hours  2016-07-13T21:40:32Z  Business Finance  \n",
            "2294        3.5 hours  2015-02-09T15:37:56Z   Web Development  \n",
            "2295          2 hours  2017-01-18T21:53:34Z   Web Development  \n",
            "2341          2 hours  2015-07-08T00:15:12Z    Graphic Design  \n",
            "2906       14.5 hours  2015-03-04T00:10:36Z   Web Development  \n",
            "2908        4.5 hours  2017-01-11T21:15:25Z   Web Development  \n",
            "2929        6.5 hours  2014-10-21T07:58:07Z   Web Development  \n",
            "2952        2.5 hours  2017-05-28T23:41:03Z  Business Finance  \n",
            "2953          3 hours  2017-03-14T00:39:45Z  Business Finance  \n",
            "2954          7 hours  2017-04-28T16:41:44Z  Business Finance  \n",
            "2955       31.5 hours  2017-02-24T18:40:55Z   Web Development  \n",
            "2956          5 hours  2015-06-14T18:18:57Z   Web Development  \n",
            "2957        6.5 hours  2017-03-30T22:17:09Z  Business Finance  \n",
            "2958          5 hours  2015-06-17T22:23:31Z  Business Finance  \n",
            "2959         26 hours  2013-10-20T19:53:28Z   Web Development  \n",
            "2960          6 hours  2015-07-01T21:46:36Z   Web Development  \n",
            "2962        5.5 hours  2017-01-27T17:11:28Z  Business Finance  \n",
            "3013       12.5 hours  2016-11-06T19:00:38Z   Web Development  \n",
            "3154          8 hours  2016-04-12T00:40:03Z  Business Finance  \n",
            "3272         11 hours  2016-09-26T15:08:29Z   Web Development  \n",
            "3460         20 hours  2014-03-04T07:12:21Z   Web Development  \n",
            "3573          4 hours  2012-04-25T00:01:43Z   Web Development  \n",
            "3574        4.5 hours  2015-08-09T22:16:41Z   Web Development  \n",
            "\n",
            "\n",
            "Courses Related to Python:\n",
            "29\n"
          ]
        }
      ]
    },
    {
      "cell_type": "code",
      "source": [
        "print(data.dtypes)   "
      ],
      "metadata": {
        "colab": {
          "base_uri": "https://localhost:8080/"
        },
        "id": "crjc98gBgaRd",
        "outputId": "221cad5a-2440-48bc-aa00-ddbd49a3bdb9"
      },
      "execution_count": null,
      "outputs": [
        {
          "output_type": "stream",
          "name": "stdout",
          "text": [
            "course_id               int64\n",
            "course_title           object\n",
            "is_paid                  bool\n",
            "price                  object\n",
            "num_subscribers         int64\n",
            "num_reviews             int64\n",
            "num_lectures            int64\n",
            "level                  object\n",
            "content_duration       object\n",
            "published_timestamp    object\n",
            "subject                object\n",
            "dtype: object\n"
          ]
        }
      ]
    },
    {
      "cell_type": "code",
      "source": [
        "data['published_timestamp']=pd.to_datetime(data.published_timestamp)"
      ],
      "metadata": {
        "id": "lNkICLBMgaTp"
      },
      "execution_count": null,
      "outputs": []
    },
    {
      "cell_type": "code",
      "source": [
        "print(data.dtypes)"
      ],
      "metadata": {
        "colab": {
          "base_uri": "https://localhost:8080/"
        },
        "id": "3eWSuJZYgaWQ",
        "outputId": "b7f95980-5696-414d-e442-9fbcd9ee7707"
      },
      "execution_count": null,
      "outputs": [
        {
          "output_type": "stream",
          "name": "stdout",
          "text": [
            "course_id                            int64\n",
            "course_title                        object\n",
            "is_paid                               bool\n",
            "price                               object\n",
            "num_subscribers                      int64\n",
            "num_reviews                          int64\n",
            "num_lectures                         int64\n",
            "level                               object\n",
            "content_duration                    object\n",
            "published_timestamp    datetime64[ns, UTC]\n",
            "subject                             object\n",
            "dtype: object\n"
          ]
        }
      ]
    },
    {
      "cell_type": "code",
      "source": [
        "a=data['Year']=data['published_timestamp'].dt.year\n",
        "print(a)"
      ],
      "metadata": {
        "colab": {
          "base_uri": "https://localhost:8080/"
        },
        "id": "T1MmhiYngacZ",
        "outputId": "832c67bb-f7a4-4e1d-a47e-56a49a14e164"
      },
      "execution_count": null,
      "outputs": [
        {
          "output_type": "stream",
          "name": "stdout",
          "text": [
            "0       2014\n",
            "1       2017\n",
            "2       2017\n",
            "3       2017\n",
            "4       2017\n",
            "        ... \n",
            "3677    2015\n",
            "3678    2015\n",
            "3679    2015\n",
            "3680    2017\n",
            "3681    2016\n",
            "Name: published_timestamp, Length: 3682, dtype: int64\n"
          ]
        }
      ]
    },
    {
      "cell_type": "code",
      "source": [
        "print(data[data.Year==2015])   # courses that were published in the year 2015"
      ],
      "metadata": {
        "colab": {
          "base_uri": "https://localhost:8080/"
        },
        "id": "48LjizMkfQBP",
        "outputId": "de18bbf3-b84e-4889-84f2-1601acd6f4a2"
      },
      "execution_count": null,
      "outputs": [
        {
          "output_type": "stream",
          "name": "stdout",
          "text": [
            "      course_id                                       course_title  is_paid  \\\n",
            "10       591880  1 - Concepts of Statistics For Beginners Step ...     True   \n",
            "16       302450        10 Numbers Every Business Owner Should Know     True   \n",
            "19       384928  101 Blues riffs - learn how the harmonica supe...     True   \n",
            "23       550842  16 Guitar Chords to Jam With - (Beginner - Int...     True   \n",
            "26       486240      2 Easy Steps To Investment And Avoiding Traps     True   \n",
            "...         ...                                                ...      ...   \n",
            "3675     551170                         Your First Course on Piano     True   \n",
            "3676     498488  Your First Successful Forex Trades - With Case...     True   \n",
            "3677     328960  Your Own Site in 45 Min: The Complete Wordpres...     True   \n",
            "3678     552700    Your Second Course on Piano: Two Handed Playing     True   \n",
            "3679     631754  Zend Framework 2: Learn the PHP framework ZF2 ...     True   \n",
            "\n",
            "     price  num_subscribers  num_reviews  num_lectures               level  \\\n",
            "10     200              273            4            15      Beginner Level   \n",
            "16      20               13            1             9          All Levels   \n",
            "19     200             1350           65            55  Intermediate Level   \n",
            "23      20             1224           19            20      Beginner Level   \n",
            "26      20              828            1            20          All Levels   \n",
            "...    ...              ...          ...           ...                 ...   \n",
            "3675    70             2002           34            33      Beginner Level   \n",
            "3676   200             1079           34            16          All Levels   \n",
            "3677   120             1566           29            36          All Levels   \n",
            "3678    70             1018           12            22      Beginner Level   \n",
            "3679    40              723          130            37          All Levels   \n",
            "\n",
            "     content_duration       published_timestamp              subject  Year  \n",
            "10            31 mins 2015-08-30 22:48:34+00:00     Business Finance  2015  \n",
            "16             1 hour 2015-03-08 19:11:24+00:00     Business Finance  2015  \n",
            "19          6.5 hours 2015-01-04 21:14:31+00:00  Musical Instruments  2015  \n",
            "23             1 hour 2015-07-10 19:53:56+00:00  Musical Instruments  2015  \n",
            "26             1 hour 2015-04-27 23:18:59+00:00     Business Finance  2015  \n",
            "...               ...                       ...                  ...   ...  \n",
            "3675          4 hours 2015-07-16 17:07:49+00:00  Musical Instruments  2015  \n",
            "3676        2.5 hours 2015-05-26 20:48:48+00:00     Business Finance  2015  \n",
            "3677          4 hours 2015-04-20 22:15:17+00:00      Web Development  2015  \n",
            "3678          5 hours 2015-10-26 20:04:21+00:00  Musical Instruments  2015  \n",
            "3679        6.5 hours 2015-11-11 18:55:45+00:00      Web Development  2015  \n",
            "\n",
            "[1014 rows x 12 columns]\n"
          ]
        }
      ]
    },
    {
      "cell_type": "code",
      "source": [
        "\n",
        "\n",
        "print(data.level.unique())"
      ],
      "metadata": {
        "colab": {
          "base_uri": "https://localhost:8080/"
        },
        "id": "BRqB1se_fQGG",
        "outputId": "7c12bae7-f029-4957-9727-d31070c02f1b"
      },
      "execution_count": null,
      "outputs": [
        {
          "output_type": "stream",
          "name": "stdout",
          "text": [
            "['All Levels' 'Intermediate Level' 'Beginner Level' 'Expert Level']\n"
          ]
        }
      ]
    },
    {
      "cell_type": "code",
      "source": [
        "print(data.groupby('level')['num_subscribers'].max())   # Max. Number of Subscribers for Each Level of courses "
      ],
      "metadata": {
        "colab": {
          "base_uri": "https://localhost:8080/"
        },
        "id": "9es1BWk4qqqN",
        "outputId": "1d23cd97-ec1c-4e67-c3eb-ec32d72fabcd"
      },
      "execution_count": null,
      "outputs": [
        {
          "output_type": "stream",
          "name": "stdout",
          "text": [
            "level\n",
            "All Levels            268923\n",
            "Beginner Level        161029\n",
            "Expert Level            5172\n",
            "Intermediate Level     29167\n",
            "Name: num_subscribers, dtype: int64\n"
          ]
        }
      ]
    },
    {
      "cell_type": "code",
      "source": [
        "print(data.groupby('level')['num_subscribers'].min())"
      ],
      "metadata": {
        "colab": {
          "base_uri": "https://localhost:8080/"
        },
        "id": "x_2aSRDWqqs_",
        "outputId": "c84f7590-da1a-4b05-d3f6-86fdb7d6e4c5"
      },
      "execution_count": null,
      "outputs": [
        {
          "output_type": "stream",
          "name": "stdout",
          "text": [
            "level\n",
            "All Levels            0\n",
            "Beginner Level        0\n",
            "Expert Level          1\n",
            "Intermediate Level    0\n",
            "Name: num_subscribers, dtype: int64\n"
          ]
        }
      ]
    },
    {
      "cell_type": "code",
      "source": [
        "print(data.groupby('level').max())"
      ],
      "metadata": {
        "colab": {
          "base_uri": "https://localhost:8080/"
        },
        "id": "WAdSHvl4qq0Q",
        "outputId": "83b83302-7112-4aaa-bd35-f56317fc168c"
      },
      "execution_count": null,
      "outputs": [
        {
          "output_type": "stream",
          "name": "stdout",
          "text": [
            "                    course_id  \\\n",
            "level                           \n",
            "All Levels            1277924   \n",
            "Beginner Level        1282064   \n",
            "Expert Level          1275790   \n",
            "Intermediate Level    1276182   \n",
            "\n",
            "                                                         course_title  \\\n",
            "level                                                                   \n",
            "All Levels                              ６時間でインターバンク市場を攻略！最短距離でトレード基礎力   \n",
            "Beginner Level             ７日でマスター  ビギナー向け Adobe Illustrator　どきどきセミナー   \n",
            "Expert Level        [Value Investing] Where White People Keep Thei...   \n",
            "Intermediate Level                           株式投資で本当のテクニカル分析ができるようになる   \n",
            "\n",
            "                    is_paid price  num_subscribers  num_reviews  num_lectures  \\\n",
            "level                                                                           \n",
            "All Levels             True  Free           268923        27445           544   \n",
            "Beginner Level         True  Free           161029         5924           779   \n",
            "Expert Level           True    95             5172          249           157   \n",
            "Intermediate Level     True  Free            29167         3326           320   \n",
            "\n",
            "                   content_duration       published_timestamp  \\\n",
            "level                                                           \n",
            "All Levels                9.5 hours 2017-07-06 21:16:13+00:00   \n",
            "Beginner Level            9.5 hours 2017-07-06 21:46:30+00:00   \n",
            "Expert Level                9 hours 2017-07-04 18:08:01+00:00   \n",
            "Intermediate Level        9.5 hours 2017-07-05 04:41:54+00:00   \n",
            "\n",
            "                            subject  Year  \n",
            "level                                      \n",
            "All Levels          Web Development  2017  \n",
            "Beginner Level      Web Development  2017  \n",
            "Expert Level        Web Development  2017  \n",
            "Intermediate Level  Web Development  2017  \n"
          ]
        }
      ]
    },
    {
      "cell_type": "code",
      "source": [
        "plt.ﬁgure(ﬁgsize=(12,12))\n",
        "plt.bar(data.price,data.num_subscribers,color='red',width=0.5)\n",
        "plt.xlabel(\"Price\")\n",
        "plt.ylabel(\"Subscribers\")\n",
        "\n",
        "plt.show()\n"
      ],
      "metadata": {
        "id": "tdSp2pnKfQUn",
        "colab": {
          "base_uri": "https://localhost:8080/",
          "height": 714
        },
        "outputId": "d1c7e294-bc0d-459b-dee4-cbe8a16b0842"
      },
      "execution_count": null,
      "outputs": [
        {
          "output_type": "display_data",
          "data": {
            "text/plain": [
              "<Figure size 864x864 with 1 Axes>"
            ],
            "image/png": "[encoded data removed]"
          },
          "metadata": {
            "needs_background": "light"
          }
        }
      ]
    },
    {
      "cell_type": "code",
      "source": [
        "print(data.head())"
      ],
      "metadata": {
        "colab": {
          "base_uri": "https://localhost:8080/"
        },
        "id": "L2jFivm4QKhE",
        "outputId": "7727411f-d519-4c41-890f-1e671bdd7391"
      },
      "execution_count": null,
      "outputs": [
        {
          "output_type": "stream",
          "name": "stdout",
          "text": [
            "   course_id                                       course_title  is_paid  \\\n",
            "0     288942  #1 Piano Hand Coordination: Play 10th Ballad i...     True   \n",
            "1    1170074  #10 Hand Coordination - Transfer Chord Ballad ...     True   \n",
            "2    1193886  #12 Hand Coordination: Let your Hands dance wi...     True   \n",
            "3    1116700  #4 Piano Hand Coordination: Fun Piano Runs in ...     True   \n",
            "4    1120410  #5  Piano Hand Coordination:  Piano Runs in 2 ...     True   \n",
            "\n",
            "  price  num_subscribers  num_reviews  num_lectures               level  \\\n",
            "0    35             3137           18            68          All Levels   \n",
            "1    75             1593            1            41  Intermediate Level   \n",
            "2    75              482            1            47  Intermediate Level   \n",
            "3    75              850            3            43  Intermediate Level   \n",
            "4    75              940            3            32  Intermediate Level   \n",
            "\n",
            "  content_duration   published_timestamp              subject  \n",
            "0        1.5 hours  2014-09-18T05:07:05Z  Musical Instruments  \n",
            "1           1 hour  2017-04-12T19:06:34Z  Musical Instruments  \n",
            "2        1.5 hours  2017-04-26T18:34:57Z  Musical Instruments  \n",
            "3           1 hour  2017-02-21T23:48:18Z  Musical Instruments  \n",
            "4          37 mins  2017-02-21T23:44:49Z  Musical Instruments  \n"
          ]
        }
      ]
    },
    {
      "cell_type": "code",
      "source": [
        "plt.pie(data.subject.value_counts(),labels=data.subject.value_counts().keys(), autopct='%.0f%%')"
      ],
      "metadata": {
        "colab": {
          "base_uri": "https://localhost:8080/",
          "height": 456
        },
        "id": "T3PwNhx2bGWc",
        "outputId": "2509821b-b748-44a5-bc19-fce597660af8"
      },
      "execution_count": null,
      "outputs": [
        {
          "output_type": "execute_result",
          "data": {
            "text/plain": [
              "([<matplotlib.patches.Wedge at 0x7f6b8e6d64d0>,\n",
              "  <matplotlib.patches.Wedge at 0x7f6b8e6d6c90>,\n",
              "  <matplotlib.patches.Wedge at 0x7f6b8e6de550>,\n",
              "  <matplotlib.patches.Wedge at 0x7f6b8e6dee50>],\n",
              " [Text(0.572065271317163, 0.9395431471480279, 'Web Development'),\n",
              "  Text(-1.0972427864891214, 0.07783487327405572, 'Business Finance'),\n",
              "  Text(-0.04222461154093784, -1.0991892840544877, 'Musical Instruments'),\n",
              "  Text(0.957593984002578, -0.5413074558899688, 'Graphic Design')],\n",
              " [Text(0.31203560253663437, 0.5124780802625606, '33%'),\n",
              "  Text(-0.5984960653577026, 0.04245538542221221, '33%'),\n",
              "  Text(-0.023031606295057003, -0.5995577913024477, '18%'),\n",
              "  Text(0.5223239912741334, -0.2952586123036193, '16%')])"
            ]
          },
          "metadata": {},
          "execution_count": 11
        },
        {
          "output_type": "display_data",
          "data": {
            "text/plain": [
              "<Figure size 432x288 with 1 Axes>"
            ],
            "image/png": "[encoded data removed]"
          },
          "metadata": {}
        }
      ]
    },
    {
      "cell_type": "code",
      "source": [
        "plt.ﬁgure(ﬁgsize=(16,16))\n",
        "plt.bar(data.content_duration.value_counts().keys(),data.content_duration.value_counts().values)\n"
      ],
      "metadata": {
        "colab": {
          "base_uri": "https://localhost:8080/",
          "height": 935
        },
        "id": "5SQBBedjcm13",
        "outputId": "c20affee-24a6-44b8-c50c-1c19fa9d0a4c"
      },
      "execution_count": null,
      "outputs": [
        {
          "output_type": "execute_result",
          "data": {
            "text/plain": [
              "<BarContainer object of 109 artists>"
            ]
          },
          "metadata": {},
          "execution_count": 12
        },
        {
          "output_type": "display_data",
          "data": {
            "text/plain": [
              "<Figure size 1152x1152 with 1 Axes>"
            ],
            "image/png": "[encoded data removed]"
          },
          "metadata": {
            "needs_background": "light"
          }
        }
      ]
    }
  ]
}